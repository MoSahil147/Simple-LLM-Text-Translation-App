{
 "cells": [
  {
   "cell_type": "code",
   "execution_count": 1,
   "id": "51e804ae",
   "metadata": {},
   "outputs": [
    {
     "name": "stdout",
     "output_type": "stream",
     "text": [
      "Requirement already satisfied: langchain in /Users/sahil/Desktop/QED42 Interview Crack/venvv/lib/python3.10/site-packages (0.3.26)\n",
      "Requirement already satisfied: langchain-core<1.0.0,>=0.3.66 in /Users/sahil/Desktop/QED42 Interview Crack/venvv/lib/python3.10/site-packages (from langchain) (0.3.68)\n",
      "Requirement already satisfied: langchain-text-splitters<1.0.0,>=0.3.8 in /Users/sahil/Desktop/QED42 Interview Crack/venvv/lib/python3.10/site-packages (from langchain) (0.3.8)\n",
      "Requirement already satisfied: langsmith>=0.1.17 in /Users/sahil/Desktop/QED42 Interview Crack/venvv/lib/python3.10/site-packages (from langchain) (0.4.4)\n",
      "Requirement already satisfied: pydantic<3.0.0,>=2.7.4 in /Users/sahil/Desktop/QED42 Interview Crack/venvv/lib/python3.10/site-packages (from langchain) (2.11.7)\n",
      "Requirement already satisfied: SQLAlchemy<3,>=1.4 in /Users/sahil/Desktop/QED42 Interview Crack/venvv/lib/python3.10/site-packages (from langchain) (2.0.41)\n",
      "Requirement already satisfied: requests<3,>=2 in /Users/sahil/Desktop/QED42 Interview Crack/venvv/lib/python3.10/site-packages (from langchain) (2.32.4)\n",
      "Requirement already satisfied: PyYAML>=5.3 in /Users/sahil/Desktop/QED42 Interview Crack/venvv/lib/python3.10/site-packages (from langchain) (6.0.2)\n",
      "Requirement already satisfied: async-timeout<5.0.0,>=4.0.0 in /Users/sahil/Desktop/QED42 Interview Crack/venvv/lib/python3.10/site-packages (from langchain) (4.0.3)\n",
      "Requirement already satisfied: tenacity!=8.4.0,<10.0.0,>=8.1.0 in /Users/sahil/Desktop/QED42 Interview Crack/venvv/lib/python3.10/site-packages (from langchain-core<1.0.0,>=0.3.66->langchain) (9.1.2)\n",
      "Requirement already satisfied: jsonpatch<2.0,>=1.33 in /Users/sahil/Desktop/QED42 Interview Crack/venvv/lib/python3.10/site-packages (from langchain-core<1.0.0,>=0.3.66->langchain) (1.33)\n",
      "Requirement already satisfied: packaging<25,>=23.2 in /Users/sahil/Desktop/QED42 Interview Crack/venvv/lib/python3.10/site-packages (from langchain-core<1.0.0,>=0.3.66->langchain) (24.2)\n",
      "Requirement already satisfied: typing-extensions>=4.7 in /Users/sahil/Desktop/QED42 Interview Crack/venvv/lib/python3.10/site-packages (from langchain-core<1.0.0,>=0.3.66->langchain) (4.14.1)\n",
      "Requirement already satisfied: jsonpointer>=1.9 in /Users/sahil/Desktop/QED42 Interview Crack/venvv/lib/python3.10/site-packages (from jsonpatch<2.0,>=1.33->langchain-core<1.0.0,>=0.3.66->langchain) (3.0.0)\n",
      "Requirement already satisfied: annotated-types>=0.6.0 in /Users/sahil/Desktop/QED42 Interview Crack/venvv/lib/python3.10/site-packages (from pydantic<3.0.0,>=2.7.4->langchain) (0.7.0)\n",
      "Requirement already satisfied: pydantic-core==2.33.2 in /Users/sahil/Desktop/QED42 Interview Crack/venvv/lib/python3.10/site-packages (from pydantic<3.0.0,>=2.7.4->langchain) (2.33.2)\n",
      "Requirement already satisfied: typing-inspection>=0.4.0 in /Users/sahil/Desktop/QED42 Interview Crack/venvv/lib/python3.10/site-packages (from pydantic<3.0.0,>=2.7.4->langchain) (0.4.1)\n",
      "Requirement already satisfied: charset_normalizer<4,>=2 in /Users/sahil/Desktop/QED42 Interview Crack/venvv/lib/python3.10/site-packages (from requests<3,>=2->langchain) (3.4.2)\n",
      "Requirement already satisfied: idna<4,>=2.5 in /Users/sahil/Desktop/QED42 Interview Crack/venvv/lib/python3.10/site-packages (from requests<3,>=2->langchain) (3.10)\n",
      "Requirement already satisfied: urllib3<3,>=1.21.1 in /Users/sahil/Desktop/QED42 Interview Crack/venvv/lib/python3.10/site-packages (from requests<3,>=2->langchain) (2.5.0)\n",
      "Requirement already satisfied: certifi>=2017.4.17 in /Users/sahil/Desktop/QED42 Interview Crack/venvv/lib/python3.10/site-packages (from requests<3,>=2->langchain) (2025.6.15)\n",
      "Requirement already satisfied: httpx<1,>=0.23.0 in /Users/sahil/Desktop/QED42 Interview Crack/venvv/lib/python3.10/site-packages (from langsmith>=0.1.17->langchain) (0.28.1)\n",
      "Requirement already satisfied: orjson<4.0.0,>=3.9.14 in /Users/sahil/Desktop/QED42 Interview Crack/venvv/lib/python3.10/site-packages (from langsmith>=0.1.17->langchain) (3.10.18)\n",
      "Requirement already satisfied: requests-toolbelt<2.0.0,>=1.0.0 in /Users/sahil/Desktop/QED42 Interview Crack/venvv/lib/python3.10/site-packages (from langsmith>=0.1.17->langchain) (1.0.0)\n",
      "Requirement already satisfied: zstandard<0.24.0,>=0.23.0 in /Users/sahil/Desktop/QED42 Interview Crack/venvv/lib/python3.10/site-packages (from langsmith>=0.1.17->langchain) (0.23.0)\n",
      "Requirement already satisfied: anyio in /Users/sahil/Desktop/QED42 Interview Crack/venvv/lib/python3.10/site-packages (from httpx<1,>=0.23.0->langsmith>=0.1.17->langchain) (4.9.0)\n",
      "Requirement already satisfied: httpcore==1.* in /Users/sahil/Desktop/QED42 Interview Crack/venvv/lib/python3.10/site-packages (from httpx<1,>=0.23.0->langsmith>=0.1.17->langchain) (1.0.9)\n",
      "Requirement already satisfied: h11>=0.16 in /Users/sahil/Desktop/QED42 Interview Crack/venvv/lib/python3.10/site-packages (from httpcore==1.*->httpx<1,>=0.23.0->langsmith>=0.1.17->langchain) (0.16.0)\n",
      "Requirement already satisfied: exceptiongroup>=1.0.2 in /Users/sahil/Desktop/QED42 Interview Crack/venvv/lib/python3.10/site-packages (from anyio->httpx<1,>=0.23.0->langsmith>=0.1.17->langchain) (1.3.0)\n",
      "Requirement already satisfied: sniffio>=1.1 in /Users/sahil/Desktop/QED42 Interview Crack/venvv/lib/python3.10/site-packages (from anyio->httpx<1,>=0.23.0->langsmith>=0.1.17->langchain) (1.3.1)\n"
     ]
    }
   ],
   "source": [
    "!pip install langchain"
   ]
  },
  {
   "cell_type": "code",
   "execution_count": 24,
   "id": "99741b39",
   "metadata": {},
   "outputs": [],
   "source": [
    "## Open AI API key and Open Source models Llama3, gemma2, mistral-- Groq\n",
    "import os\n",
    "from dotenv import load_dotenv\n",
    "load_dotenv()\n",
    "\n",
    "import openai\n",
    "openai.api_key=os.getenv(\"OPENAI_API_KEY\")\n",
    "\n",
    "groq_api_key=os.getenv(\"GROQ_API_KEY\")"
   ]
  },
  {
   "cell_type": "code",
   "execution_count": 7,
   "id": "27d403cc",
   "metadata": {},
   "outputs": [
    {
     "name": "stdout",
     "output_type": "stream",
     "text": [
      "Requirement already satisfied: langchain_groq in /Users/sahil/Desktop/QED42 Interview Crack/venvv/lib/python3.10/site-packages (0.3.5)\n",
      "Requirement already satisfied: langchain-core<1.0.0,>=0.3.67 in /Users/sahil/Desktop/QED42 Interview Crack/venvv/lib/python3.10/site-packages (from langchain_groq) (0.3.68)\n",
      "Requirement already satisfied: groq<1,>=0.29.0 in /Users/sahil/Desktop/QED42 Interview Crack/venvv/lib/python3.10/site-packages (from langchain_groq) (0.29.0)\n",
      "Requirement already satisfied: anyio<5,>=3.5.0 in /Users/sahil/Desktop/QED42 Interview Crack/venvv/lib/python3.10/site-packages (from groq<1,>=0.29.0->langchain_groq) (4.9.0)\n",
      "Requirement already satisfied: distro<2,>=1.7.0 in /Users/sahil/Desktop/QED42 Interview Crack/venvv/lib/python3.10/site-packages (from groq<1,>=0.29.0->langchain_groq) (1.9.0)\n",
      "Requirement already satisfied: httpx<1,>=0.23.0 in /Users/sahil/Desktop/QED42 Interview Crack/venvv/lib/python3.10/site-packages (from groq<1,>=0.29.0->langchain_groq) (0.28.1)\n",
      "Requirement already satisfied: pydantic<3,>=1.9.0 in /Users/sahil/Desktop/QED42 Interview Crack/venvv/lib/python3.10/site-packages (from groq<1,>=0.29.0->langchain_groq) (2.11.7)\n",
      "Requirement already satisfied: sniffio in /Users/sahil/Desktop/QED42 Interview Crack/venvv/lib/python3.10/site-packages (from groq<1,>=0.29.0->langchain_groq) (1.3.1)\n",
      "Requirement already satisfied: typing-extensions<5,>=4.10 in /Users/sahil/Desktop/QED42 Interview Crack/venvv/lib/python3.10/site-packages (from groq<1,>=0.29.0->langchain_groq) (4.14.1)\n",
      "Requirement already satisfied: exceptiongroup>=1.0.2 in /Users/sahil/Desktop/QED42 Interview Crack/venvv/lib/python3.10/site-packages (from anyio<5,>=3.5.0->groq<1,>=0.29.0->langchain_groq) (1.3.0)\n",
      "Requirement already satisfied: idna>=2.8 in /Users/sahil/Desktop/QED42 Interview Crack/venvv/lib/python3.10/site-packages (from anyio<5,>=3.5.0->groq<1,>=0.29.0->langchain_groq) (3.10)\n",
      "Requirement already satisfied: certifi in /Users/sahil/Desktop/QED42 Interview Crack/venvv/lib/python3.10/site-packages (from httpx<1,>=0.23.0->groq<1,>=0.29.0->langchain_groq) (2025.6.15)\n",
      "Requirement already satisfied: httpcore==1.* in /Users/sahil/Desktop/QED42 Interview Crack/venvv/lib/python3.10/site-packages (from httpx<1,>=0.23.0->groq<1,>=0.29.0->langchain_groq) (1.0.9)\n",
      "Requirement already satisfied: h11>=0.16 in /Users/sahil/Desktop/QED42 Interview Crack/venvv/lib/python3.10/site-packages (from httpcore==1.*->httpx<1,>=0.23.0->groq<1,>=0.29.0->langchain_groq) (0.16.0)\n",
      "Requirement already satisfied: langsmith>=0.3.45 in /Users/sahil/Desktop/QED42 Interview Crack/venvv/lib/python3.10/site-packages (from langchain-core<1.0.0,>=0.3.67->langchain_groq) (0.4.4)\n",
      "Requirement already satisfied: tenacity!=8.4.0,<10.0.0,>=8.1.0 in /Users/sahil/Desktop/QED42 Interview Crack/venvv/lib/python3.10/site-packages (from langchain-core<1.0.0,>=0.3.67->langchain_groq) (9.1.2)\n",
      "Requirement already satisfied: jsonpatch<2.0,>=1.33 in /Users/sahil/Desktop/QED42 Interview Crack/venvv/lib/python3.10/site-packages (from langchain-core<1.0.0,>=0.3.67->langchain_groq) (1.33)\n",
      "Requirement already satisfied: PyYAML>=5.3 in /Users/sahil/Desktop/QED42 Interview Crack/venvv/lib/python3.10/site-packages (from langchain-core<1.0.0,>=0.3.67->langchain_groq) (6.0.2)\n",
      "Requirement already satisfied: packaging<25,>=23.2 in /Users/sahil/Desktop/QED42 Interview Crack/venvv/lib/python3.10/site-packages (from langchain-core<1.0.0,>=0.3.67->langchain_groq) (24.2)\n",
      "Requirement already satisfied: jsonpointer>=1.9 in /Users/sahil/Desktop/QED42 Interview Crack/venvv/lib/python3.10/site-packages (from jsonpatch<2.0,>=1.33->langchain-core<1.0.0,>=0.3.67->langchain_groq) (3.0.0)\n",
      "Requirement already satisfied: annotated-types>=0.6.0 in /Users/sahil/Desktop/QED42 Interview Crack/venvv/lib/python3.10/site-packages (from pydantic<3,>=1.9.0->groq<1,>=0.29.0->langchain_groq) (0.7.0)\n",
      "Requirement already satisfied: pydantic-core==2.33.2 in /Users/sahil/Desktop/QED42 Interview Crack/venvv/lib/python3.10/site-packages (from pydantic<3,>=1.9.0->groq<1,>=0.29.0->langchain_groq) (2.33.2)\n",
      "Requirement already satisfied: typing-inspection>=0.4.0 in /Users/sahil/Desktop/QED42 Interview Crack/venvv/lib/python3.10/site-packages (from pydantic<3,>=1.9.0->groq<1,>=0.29.0->langchain_groq) (0.4.1)\n",
      "Requirement already satisfied: orjson<4.0.0,>=3.9.14 in /Users/sahil/Desktop/QED42 Interview Crack/venvv/lib/python3.10/site-packages (from langsmith>=0.3.45->langchain-core<1.0.0,>=0.3.67->langchain_groq) (3.10.18)\n",
      "Requirement already satisfied: requests<3,>=2 in /Users/sahil/Desktop/QED42 Interview Crack/venvv/lib/python3.10/site-packages (from langsmith>=0.3.45->langchain-core<1.0.0,>=0.3.67->langchain_groq) (2.32.4)\n",
      "Requirement already satisfied: requests-toolbelt<2.0.0,>=1.0.0 in /Users/sahil/Desktop/QED42 Interview Crack/venvv/lib/python3.10/site-packages (from langsmith>=0.3.45->langchain-core<1.0.0,>=0.3.67->langchain_groq) (1.0.0)\n",
      "Requirement already satisfied: zstandard<0.24.0,>=0.23.0 in /Users/sahil/Desktop/QED42 Interview Crack/venvv/lib/python3.10/site-packages (from langsmith>=0.3.45->langchain-core<1.0.0,>=0.3.67->langchain_groq) (0.23.0)\n",
      "Requirement already satisfied: charset_normalizer<4,>=2 in /Users/sahil/Desktop/QED42 Interview Crack/venvv/lib/python3.10/site-packages (from requests<3,>=2->langsmith>=0.3.45->langchain-core<1.0.0,>=0.3.67->langchain_groq) (3.4.2)\n",
      "Requirement already satisfied: urllib3<3,>=1.21.1 in /Users/sahil/Desktop/QED42 Interview Crack/venvv/lib/python3.10/site-packages (from requests<3,>=2->langsmith>=0.3.45->langchain-core<1.0.0,>=0.3.67->langchain_groq) (2.5.0)\n"
     ]
    }
   ],
   "source": [
    "!pip install langchain_groq"
   ]
  },
  {
   "cell_type": "code",
   "execution_count": null,
   "id": "5742f6b1",
   "metadata": {},
   "outputs": [
    {
     "data": {
      "text/plain": [
       "ChatGroq(client=<groq.resources.chat.completions.Completions object at 0x10a913760>, async_client=<groq.resources.chat.completions.AsyncCompletions object at 0x10a9112d0>, model_name='Gemma2-9b-It', model_kwargs={}, groq_api_key=SecretStr('**********'))"
      ]
     },
     "execution_count": 8,
     "metadata": {},
     "output_type": "execute_result"
    }
   ],
   "source": [
    "## Langchain wants to create integration with all llm models\n",
    "##from langchain_openai import ChatOpenAI\n",
    "from langchain_groq import ChatGroq\n",
    "## 9B paramater version of Google Gemma models\n",
    "model=ChatGroq(model=\"Gemma2-9b-It\", groq_api_key=groq_api_key)\n",
    "model\n",
    "\n",
    " "
   ]
  },
  {
   "cell_type": "code",
   "execution_count": 9,
   "id": "4d9ab207",
   "metadata": {},
   "outputs": [
    {
     "name": "stdout",
     "output_type": "stream",
     "text": [
      "Requirement already satisfied: langchain_core in /Users/sahil/Desktop/QED42 Interview Crack/venvv/lib/python3.10/site-packages (0.3.68)\n",
      "Requirement already satisfied: langsmith>=0.3.45 in /Users/sahil/Desktop/QED42 Interview Crack/venvv/lib/python3.10/site-packages (from langchain_core) (0.4.4)\n",
      "Requirement already satisfied: tenacity!=8.4.0,<10.0.0,>=8.1.0 in /Users/sahil/Desktop/QED42 Interview Crack/venvv/lib/python3.10/site-packages (from langchain_core) (9.1.2)\n",
      "Requirement already satisfied: jsonpatch<2.0,>=1.33 in /Users/sahil/Desktop/QED42 Interview Crack/venvv/lib/python3.10/site-packages (from langchain_core) (1.33)\n",
      "Requirement already satisfied: PyYAML>=5.3 in /Users/sahil/Desktop/QED42 Interview Crack/venvv/lib/python3.10/site-packages (from langchain_core) (6.0.2)\n",
      "Requirement already satisfied: packaging<25,>=23.2 in /Users/sahil/Desktop/QED42 Interview Crack/venvv/lib/python3.10/site-packages (from langchain_core) (24.2)\n",
      "Requirement already satisfied: typing-extensions>=4.7 in /Users/sahil/Desktop/QED42 Interview Crack/venvv/lib/python3.10/site-packages (from langchain_core) (4.14.1)\n",
      "Requirement already satisfied: pydantic>=2.7.4 in /Users/sahil/Desktop/QED42 Interview Crack/venvv/lib/python3.10/site-packages (from langchain_core) (2.11.7)\n",
      "Requirement already satisfied: jsonpointer>=1.9 in /Users/sahil/Desktop/QED42 Interview Crack/venvv/lib/python3.10/site-packages (from jsonpatch<2.0,>=1.33->langchain_core) (3.0.0)\n",
      "Requirement already satisfied: httpx<1,>=0.23.0 in /Users/sahil/Desktop/QED42 Interview Crack/venvv/lib/python3.10/site-packages (from langsmith>=0.3.45->langchain_core) (0.28.1)\n",
      "Requirement already satisfied: orjson<4.0.0,>=3.9.14 in /Users/sahil/Desktop/QED42 Interview Crack/venvv/lib/python3.10/site-packages (from langsmith>=0.3.45->langchain_core) (3.10.18)\n",
      "Requirement already satisfied: requests<3,>=2 in /Users/sahil/Desktop/QED42 Interview Crack/venvv/lib/python3.10/site-packages (from langsmith>=0.3.45->langchain_core) (2.32.4)\n",
      "Requirement already satisfied: requests-toolbelt<2.0.0,>=1.0.0 in /Users/sahil/Desktop/QED42 Interview Crack/venvv/lib/python3.10/site-packages (from langsmith>=0.3.45->langchain_core) (1.0.0)\n",
      "Requirement already satisfied: zstandard<0.24.0,>=0.23.0 in /Users/sahil/Desktop/QED42 Interview Crack/venvv/lib/python3.10/site-packages (from langsmith>=0.3.45->langchain_core) (0.23.0)\n",
      "Requirement already satisfied: anyio in /Users/sahil/Desktop/QED42 Interview Crack/venvv/lib/python3.10/site-packages (from httpx<1,>=0.23.0->langsmith>=0.3.45->langchain_core) (4.9.0)\n",
      "Requirement already satisfied: certifi in /Users/sahil/Desktop/QED42 Interview Crack/venvv/lib/python3.10/site-packages (from httpx<1,>=0.23.0->langsmith>=0.3.45->langchain_core) (2025.6.15)\n",
      "Requirement already satisfied: httpcore==1.* in /Users/sahil/Desktop/QED42 Interview Crack/venvv/lib/python3.10/site-packages (from httpx<1,>=0.23.0->langsmith>=0.3.45->langchain_core) (1.0.9)\n",
      "Requirement already satisfied: idna in /Users/sahil/Desktop/QED42 Interview Crack/venvv/lib/python3.10/site-packages (from httpx<1,>=0.23.0->langsmith>=0.3.45->langchain_core) (3.10)\n",
      "Requirement already satisfied: h11>=0.16 in /Users/sahil/Desktop/QED42 Interview Crack/venvv/lib/python3.10/site-packages (from httpcore==1.*->httpx<1,>=0.23.0->langsmith>=0.3.45->langchain_core) (0.16.0)\n",
      "Requirement already satisfied: annotated-types>=0.6.0 in /Users/sahil/Desktop/QED42 Interview Crack/venvv/lib/python3.10/site-packages (from pydantic>=2.7.4->langchain_core) (0.7.0)\n",
      "Requirement already satisfied: pydantic-core==2.33.2 in /Users/sahil/Desktop/QED42 Interview Crack/venvv/lib/python3.10/site-packages (from pydantic>=2.7.4->langchain_core) (2.33.2)\n",
      "Requirement already satisfied: typing-inspection>=0.4.0 in /Users/sahil/Desktop/QED42 Interview Crack/venvv/lib/python3.10/site-packages (from pydantic>=2.7.4->langchain_core) (0.4.1)\n",
      "Requirement already satisfied: charset_normalizer<4,>=2 in /Users/sahil/Desktop/QED42 Interview Crack/venvv/lib/python3.10/site-packages (from requests<3,>=2->langsmith>=0.3.45->langchain_core) (3.4.2)\n",
      "Requirement already satisfied: urllib3<3,>=1.21.1 in /Users/sahil/Desktop/QED42 Interview Crack/venvv/lib/python3.10/site-packages (from requests<3,>=2->langsmith>=0.3.45->langchain_core) (2.5.0)\n",
      "Requirement already satisfied: exceptiongroup>=1.0.2 in /Users/sahil/Desktop/QED42 Interview Crack/venvv/lib/python3.10/site-packages (from anyio->httpx<1,>=0.23.0->langsmith>=0.3.45->langchain_core) (1.3.0)\n",
      "Requirement already satisfied: sniffio>=1.1 in /Users/sahil/Desktop/QED42 Interview Crack/venvv/lib/python3.10/site-packages (from anyio->httpx<1,>=0.23.0->langsmith>=0.3.45->langchain_core) (1.3.1)\n"
     ]
    }
   ],
   "source": [
    "## LLM model is like if you give a query, you need an answer in return\n",
    "!pip install langchain_core"
   ]
  },
  {
   "cell_type": "code",
   "execution_count": 15,
   "id": "22b6db45",
   "metadata": {},
   "outputs": [],
   "source": [
    "from langchain_core.messages import HumanMessage, SystemMessage\n",
    "## SystemMessage is an instruction to an LLM, and other is a message form human being\n",
    "\n",
    "messages=[\n",
    "    ##Instructing our LLM model to do this\n",
    "    SystemMessage(content=\"Translate the content from English to French\"),\n",
    "    ## What human is speaking\n",
    "    HumanMessage(content=\"Hello! How are you?\")\n",
    "]\n",
    "\n",
    "## now invoke\n",
    "result=model.invoke(messages)"
   ]
  },
  {
   "cell_type": "code",
   "execution_count": 16,
   "id": "5d5ab740",
   "metadata": {},
   "outputs": [
    {
     "data": {
      "text/plain": [
       "AIMessage(content='Bonjour ! Comment vas-tu ? \\n', additional_kwargs={}, response_metadata={'token_usage': {'completion_tokens': 11, 'prompt_tokens': 22, 'total_tokens': 33, 'completion_time': 0.02, 'prompt_time': 0.00216314, 'queue_time': 0.258201361, 'total_time': 0.02216314}, 'model_name': 'Gemma2-9b-It', 'system_fingerprint': 'fp_10c08bf97d', 'finish_reason': 'stop', 'logprobs': None}, id='run--7e619122-ac98-4b48-9345-1afbb023dc65-0', usage_metadata={'input_tokens': 22, 'output_tokens': 11, 'total_tokens': 33})"
      ]
     },
     "execution_count": 16,
     "metadata": {},
     "output_type": "execute_result"
    }
   ],
   "source": [
    "result"
   ]
  },
  {
   "cell_type": "code",
   "execution_count": 17,
   "id": "0507405f",
   "metadata": {},
   "outputs": [
    {
     "data": {
      "text/plain": [
       "'Bonjour ! Comment vas-tu ? \\n'"
      ]
     },
     "execution_count": 17,
     "metadata": {},
     "output_type": "execute_result"
    }
   ],
   "source": [
    "## Its giving long responses like including meta datas as well, we just need translation\n",
    "from langchain_core.output_parsers import StrOutputParser\n",
    "##it will just display the content message out\n",
    "parser=StrOutputParser()\n",
    "parser.invoke(result)"
   ]
  },
  {
   "cell_type": "code",
   "execution_count": 18,
   "id": "425184ed",
   "metadata": {},
   "outputs": [
    {
     "data": {
      "text/plain": [
       "\"Hello! How are you?\\n\\n**French:**\\n\\nBonjour ! Comment vas-tu ? \\n\\n\\nLet me know if you have any other phrases you'd like me to translate!\\n\""
      ]
     },
     "execution_count": 18,
     "metadata": {},
     "output_type": "execute_result"
    }
   ],
   "source": [
    "## We have 2 comp- 1) Model 2)StrOutputParser\n",
    "## So use LCEL and chain the components\n",
    "chain=model|parser\n",
    "chain.invoke(messages)"
   ]
  },
  {
   "cell_type": "code",
   "execution_count": 19,
   "id": "6114bdbd",
   "metadata": {},
   "outputs": [],
   "source": [
    "## Prompt templates, making a reusable prompt template\n",
    "from langchain_core.prompts import ChatPromptTemplate\n",
    "\n",
    "generic_template=\"Translate the following into {language}:\"\n",
    "\n",
    "prompt=ChatPromptTemplate.from_messages(\n",
    "    ## Here also System and User\n",
    "    [(\"system\", generic_template),(\"user\", \"{text}\")]\n",
    ")"
   ]
  },
  {
   "cell_type": "code",
   "execution_count": 21,
   "id": "ccf68de6",
   "metadata": {},
   "outputs": [],
   "source": [
    "result=prompt.invoke({\"language\":\"French\", \"text\":\"Hello\"})"
   ]
  },
  {
   "cell_type": "code",
   "execution_count": 22,
   "id": "8c4e8d45",
   "metadata": {},
   "outputs": [
    {
     "data": {
      "text/plain": [
       "[SystemMessage(content='Translate the following into French:', additional_kwargs={}, response_metadata={}),\n",
       " HumanMessage(content='Hello', additional_kwargs={}, response_metadata={})]"
      ]
     },
     "execution_count": 22,
     "metadata": {},
     "output_type": "execute_result"
    }
   ],
   "source": [
    "result.to_messages()"
   ]
  },
  {
   "cell_type": "code",
   "execution_count": null,
   "id": "0f69702a",
   "metadata": {},
   "outputs": [
    {
     "data": {
      "text/plain": [
       "\"Bonjour 👋 \\n\\n\\nLet me know if you have any other words or phrases you'd like translated! 😊\\n\""
      ]
     },
     "execution_count": 23,
     "metadata": {},
     "output_type": "execute_result"
    }
   ],
   "source": [
    "##Chain together iwth LCEL\n",
    "chain=prompt|model|parser\n",
    "chain.invoke({\"language\":\"French\", \"text\":\"Hello\"})"
   ]
  },
  {
   "cell_type": "code",
   "execution_count": null,
   "id": "3cb73a05",
   "metadata": {},
   "outputs": [],
   "source": [
    "## To convert all these things to APIs will use, LangServe\n",
    "## RESTAPI, lets backedn and frontend talk to each other "
   ]
  },
  {
   "cell_type": "code",
   "execution_count": null,
   "id": "5ec8dde8",
   "metadata": {},
   "outputs": [],
   "source": []
  },
  {
   "cell_type": "code",
   "execution_count": null,
   "id": "1c6e3860",
   "metadata": {},
   "outputs": [],
   "source": []
  },
  {
   "cell_type": "code",
   "execution_count": null,
   "id": "a73ff023",
   "metadata": {},
   "outputs": [],
   "source": []
  },
  {
   "cell_type": "code",
   "execution_count": null,
   "id": "79d7ee43",
   "metadata": {},
   "outputs": [],
   "source": []
  },
  {
   "cell_type": "code",
   "execution_count": null,
   "id": "c0b52db0",
   "metadata": {},
   "outputs": [],
   "source": []
  },
  {
   "cell_type": "code",
   "execution_count": null,
   "id": "7c3e8c50",
   "metadata": {},
   "outputs": [],
   "source": []
  },
  {
   "cell_type": "code",
   "execution_count": null,
   "id": "38eec4a7",
   "metadata": {},
   "outputs": [],
   "source": []
  },
  {
   "cell_type": "code",
   "execution_count": null,
   "id": "f1c8d77a",
   "metadata": {},
   "outputs": [],
   "source": []
  },
  {
   "cell_type": "code",
   "execution_count": null,
   "id": "747e2b3a",
   "metadata": {},
   "outputs": [],
   "source": []
  },
  {
   "cell_type": "code",
   "execution_count": null,
   "id": "dd9f73bc",
   "metadata": {},
   "outputs": [],
   "source": []
  },
  {
   "cell_type": "code",
   "execution_count": null,
   "id": "8e1e8ea3",
   "metadata": {},
   "outputs": [],
   "source": []
  },
  {
   "cell_type": "code",
   "execution_count": null,
   "id": "ae9ffeb8",
   "metadata": {},
   "outputs": [],
   "source": []
  }
 ],
 "metadata": {
  "kernelspec": {
   "display_name": "venvv",
   "language": "python",
   "name": "python3"
  },
  "language_info": {
   "codemirror_mode": {
    "name": "ipython",
    "version": 3
   },
   "file_extension": ".py",
   "mimetype": "text/x-python",
   "name": "python",
   "nbconvert_exporter": "python",
   "pygments_lexer": "ipython3",
   "version": "3.10.0"
  }
 },
 "nbformat": 4,
 "nbformat_minor": 5
}
